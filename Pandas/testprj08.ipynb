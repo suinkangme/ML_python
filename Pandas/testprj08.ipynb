
{
 "cells": [
  {
   "cell_type": "markdown",
   "id": "ed189127",
   "metadata": {},
   "source": [
    "# Pandas"
   ]
  },
  {
   "cell_type": "code",
   "execution_count": 2,
   "id": "d1537434",
   "metadata": {},
   "outputs": [],
   "source": [
    "import pandas as pd"
   ]
  },
  {
   "cell_type": "code",
   "execution_count": 3,
   "id": "36c6e522",
   "metadata": {},
   "outputs": [
    {
     "name": "stdout",
     "output_type": "stream",
     "text": [
      "titanic variable type: <class 'pandas.core.frame.DataFrame'>\n"
     ]
    }
   ],
   "source": [
    "titanic_df = pd.read_csv('titanic_train.csv')\n",
    "print('titanic variable type:',type(titanic_df))"
   ]
  },
  {
   "cell_type": "markdown",
   "id": "e7f7cdbf",
   "metadata": {},
   "source": [
    "### DataFrame in Pandas conversion to list, dictionary, ndarray in numpy \n",
    "\n",
    "* mutual conversion between different types of data"
   ]
  },
  {
   "cell_type": "code",
   "execution_count": null,
   "id": "eb472dee",
   "metadata": {},
   "outputs": [],
   "source": []
  }
 ],
 "metadata": {
  "kernelspec": {
   "display_name": "Python 3",
   "language": "python",
   "name": "python3"
  },
  "language_info": {
   "codemirror_mode": {
    "name": "ipython",
    "version": 3
   },
   "file_extension": ".py",
   "mimetype": "text/x-python",
   "name": "python",
   "nbconvert_exporter": "python",
   "pygments_lexer": "ipython3",
   "version": "3.8.8"
  }
 },
 "nbformat": 4,
 "nbformat_minor": 5
 
}
