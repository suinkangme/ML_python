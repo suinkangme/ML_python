{
 "cells": [
  {
   "cell_type": "markdown",
   "id": "96f1c894",
   "metadata": {},
   "source": [
    "# Numpy ndarray\n",
    "\n",
    "* * *"
   ]
  },
  {
   "cell_type": "code",
   "execution_count": 2,
   "id": "db64e9a9",
   "metadata": {},
   "outputs": [],
   "source": [
    "import numpy as np"
   ]
  },
  {
   "cell_type": "markdown",
   "id": "fc49ad93",
   "metadata": {},
   "source": [
    "## NumPy Sorting Arrays\n",
    "* sort( )\n",
    "* argsort( )"
   ]
  },
  {
   "cell_type": "markdown",
   "id": "d7daebfc",
   "metadata": {},
   "source": [
    "## Sorting - sort( )"
   ]
  },
  {
   "cell_type": "code",
   "execution_count": 9,
   "id": "bd3aebde",
   "metadata": {},
   "outputs": [
    {
     "name": "stdout",
     "output_type": "stream",
     "text": [
      "original array: [3 1 9 5]\n",
      "np.sort( ) : [1 3 5 9]\n",
      "np.sort( ) : [3 1 9 5]\n",
      "org_array.sort( ) : [1 3 5 9]\n"
     ]
    }
   ],
   "source": [
    "org_array = np.array([ 3, 1, 9, 5]) \n",
    "print('original array:', org_array)\n",
    "\n",
    "# np.sort( ) \n",
    "sort_array1 = np.sort(org_array)         \n",
    "print ('np.sort( ) :', sort_array1)\n",
    "\n",
    "# the orginal array is not changing\n",
    "print('np.sort( ) :', org_array)\n",
    "\n",
    "# ndarray.sort( )\n",
    "org_array.sort()\n",
    "print('org_array.sort( ) :', org_array)\n",
    "\n"
   ]
  },
  {
   "cell_type": "code",
   "execution_count": 6,
   "id": "e26338fc",
   "metadata": {},
   "outputs": [
    {
     "name": "stdout",
     "output_type": "stream",
     "text": [
      "descending order: [9 5 3 1]\n"
     ]
    }
   ],
   "source": [
    "sort_array1_desc = np.sort(org_array)[::-1]\n",
    "print ('descending order:', sort_array1_desc) "
   ]
  },
  {
   "cell_type": "code",
   "execution_count": 11,
   "id": "b4af700e",
   "metadata": {},
   "outputs": [
    {
     "name": "stdout",
     "output_type": "stream",
     "text": [
      "row:\n",
      " [[ 7  1]\n",
      " [ 8 12]]\n",
      "column:\n",
      " [[ 8 12]\n",
      " [ 1  7]]\n"
     ]
    }
   ],
   "source": [
    "array2d = np.array([[8, 12], \n",
    "                   [7, 1 ]])\n",
    "\n",
    "sort_array2d_axis0 = np.sort(array2d, axis=0)\n",
    "print('row:\\n', sort_array2d_axis0)\n",
    "\n",
    "sort_array2d_axis1 = np.sort(array2d, axis=1)\n",
    "print('column:\\n', sort_array2d_axis1)"
   ]
  },
  {
   "cell_type": "markdown",
   "id": "1640c36d",
   "metadata": {},
   "source": [
    "## Sorting - argsort( )\n",
    "* It returns an array of indices of the same shape as arr that would sort the array. "
   ]
  },
  {
   "cell_type": "code",
   "execution_count": 12,
   "id": "a8df7183",
   "metadata": {},
   "outputs": [
    {
     "name": "stdout",
     "output_type": "stream",
     "text": [
      "<class 'numpy.ndarray'>\n",
      "after argsort the index of org_array: [1 0 3 2]\n"
     ]
    }
   ],
   "source": [
    "org_array = np.array([ 3, 1, 9, 5]) \n",
    "sort_indices = np.argsort(org_array)\n",
    "print(type(sort_indices))\n",
    "print('after argsort the index of org_array:', sort_indices)"
   ]
  },
  {
   "cell_type": "code",
   "execution_count": 13,
   "id": "5b421a27",
   "metadata": {},
   "outputs": [
    {
     "name": "stdout",
     "output_type": "stream",
     "text": [
      "after descending order argsort the index of org_array: [2 3 0 1]\n"
     ]
    }
   ],
   "source": [
    "org_array = np.array([ 3, 1, 9, 5]) \n",
    "sort_indices_desc = np.argsort(org_array)[::-1]\n",
    "print('after descending order argsort the index of org_array:', sort_indices_desc)"
   ]
  },
  {
   "cell_type": "code",
   "execution_count": 21,
   "id": "7609ebb2",
   "metadata": {},
   "outputs": [
    {
     "name": "stdout",
     "output_type": "stream",
     "text": [
      "ascending order sorting for score_array index: [0 2 4 1 3]\n",
      "the name based on ascending order sorting: ['John' 'Sarah' 'Samuel' 'Mike' 'Kate']\n"
     ]
    }
   ],
   "source": [
    "\n",
    "name_array = np.array(['John', 'Mike', 'Sarah', 'Kate', 'Samuel'])\n",
    "score_array= np.array([78, 95, 84, 98, 88])\n",
    "\n",
    "sort_indices_asc = np.argsort(score_array)\n",
    "print('ascending order sorting for score_array index:', sort_indices_asc)\n",
    "print('the name based on ascending order sorting:', name_array[sort_indices_asc])"
   ]
  },
  {
   "cell_type": "markdown",
   "id": "15001968",
   "metadata": {},
   "source": [
    "## NumPy - linear algebra\n",
    "* dot()\n",
    "* transpose()\n"
   ]
  },
  {
   "cell_type": "code",
   "execution_count": 22,
   "id": "2f98d1d3",
   "metadata": {},
   "outputs": [
    {
     "name": "stdout",
     "output_type": "stream",
     "text": [
      "result:\n",
      " [[ 58  64]\n",
      " [139 154]]\n"
     ]
    }
   ],
   "source": [
    "A = np.array([[1, 2, 3],\n",
    "              [4, 5, 6]])\n",
    "B = np.array([[7, 8],\n",
    "              [9, 10],\n",
    "              [11, 12]])\n",
    "\n",
    "dot_product = np.dot(A, B)\n",
    "print('result:\\n', dot_product)"
   ]
  },
  {
   "cell_type": "code",
   "execution_count": 23,
   "id": "fea78169",
   "metadata": {},
   "outputs": [
    {
     "name": "stdout",
     "output_type": "stream",
     "text": [
      "the traspose array for A:\n",
      " [[1 3]\n",
      " [2 4]]\n"
     ]
    }
   ],
   "source": [
    "A = np.array([[1, 2],\n",
    "              [3, 4]])\n",
    "transpose_mat = np.transpose(A)\n",
    "print('the traspose array for A:\\n', transpose_mat)"
   ]
  }
 ],
 "metadata": {
  "kernelspec": {
   "display_name": "Python 3",
   "language": "python",
   "name": "python3"
  },
  "language_info": {
   "codemirror_mode": {
    "name": "ipython",
    "version": 3
   },
   "file_extension": ".py",
   "mimetype": "text/x-python",
   "name": "python",
   "nbconvert_exporter": "python",
   "pygments_lexer": "ipython3",
   "version": "3.8.8"
  }
 },
 "nbformat": 4,
 "nbformat_minor": 5
}
