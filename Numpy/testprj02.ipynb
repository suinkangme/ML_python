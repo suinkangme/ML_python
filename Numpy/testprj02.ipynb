{
 "cells": [
  {
   "cell_type": "markdown",
   "id": "96f1c894",
   "metadata": {},
   "source": [
    "# Numpy ndarray\n",
    "\n",
    "* * *"
   ]
  },
  {
   "cell_type": "code",
   "execution_count": 4,
   "id": "db64e9a9",
   "metadata": {},
   "outputs": [],
   "source": [
    "import numpy as np"
   ]
  },
  {
   "cell_type": "markdown",
   "id": "fc49ad93",
   "metadata": {},
   "source": [
    "## NumPy Array Shape"
   ]
  },
  {
   "cell_type": "code",
   "execution_count": 5,
   "id": "4b80825a",
   "metadata": {},
   "outputs": [
    {
     "name": "stdout",
     "output_type": "stream",
     "text": [
      "list1 type: <class 'list'>\n",
      "array1 type: <class 'numpy.ndarray'>\n",
      "array1 array shape: (3,)\n",
      "array2 type: <class 'numpy.ndarray'>\n",
      "array2 array shape: (2, 3)\n",
      "array3 type: <class 'numpy.ndarray'>\n",
      "array3 array shape: (1, 3)\n"
     ]
    }
   ],
   "source": [
    "list1 = [1, 2, 3]\n",
    "print('list1 type:', type(list1))\n",
    "array1 = np.array(list1)\n",
    "#array1 = np.array([1,2,3])\n",
    "\n",
    "print('array1 type:',type(array1))\n",
    "print('array1 array shape:',array1.shape)\n",
    "#array1 shape = (3,) \n",
    "\n",
    "array2 = np.array([[1,2,3],\n",
    "                  [2,3,4]])\n",
    "print('array2 type:',type(array2))\n",
    "print('array2 array shape:',array2.shape)\n",
    "#array2 shape = (2,3) \n",
    "\n",
    "array3 = np.array([[1,2,3]])\n",
    "print('array3 type:',type(array3))\n",
    "print('array3 array shape:',array3.shape)\n",
    "#array3 shape = (1,3) \n"
   ]
  },
  {
   "cell_type": "code",
   "execution_count": 6,
   "id": "87ace269",
   "metadata": {},
   "outputs": [
    {
     "name": "stdout",
     "output_type": "stream",
     "text": [
      "array1:1 dimension, array2:2 dimension, array3: 2 dimension\n"
     ]
    }
   ],
   "source": [
    "print('array1:{:0} dimension, array2:{:1} dimension, array3:{:2} dimension'.format(array1.ndim,array2.ndim,array3.ndim))\n",
    " "
   ]
  },
  {
   "cell_type": "markdown",
   "id": "15001968",
   "metadata": {},
   "source": [
    "## ndarray's data type"
   ]
  },
  {
   "cell_type": "code",
   "execution_count": 8,
   "id": "3408f474",
   "metadata": {},
   "outputs": [
    {
     "name": "stdout",
     "output_type": "stream",
     "text": [
      "<class 'list'>\n",
      "<class 'numpy.ndarray'>\n",
      "[1 2 3] int64\n"
     ]
    }
   ],
   "source": [
    "list1 = [1,2,3]\n",
    "print(type(list1))\n",
    "\n",
    "array1 = np.array(list1)\n",
    "print(type(array1))\n",
    "#array1's type : numpy.ndarray\n",
    "\n",
    "print(array1, array1.dtype)\n",
    "#data type = int64\n"
   ]
  },
  {
   "cell_type": "markdown",
   "id": "45c6c648",
   "metadata": {},
   "source": [
    " ### **In ndarray, the data type should be same!**\n",
    " * different data type can be inserted but it should be type casting\n"
   ]
  },
  {
   "cell_type": "code",
   "execution_count": 12,
   "id": "95c50e0f",
   "metadata": {},
   "outputs": [
    {
     "name": "stdout",
     "output_type": "stream",
     "text": [
      "['1' '2' 'test'] <U21\n"
     ]
    }
   ],
   "source": [
    "list2 = [1,2, 'test']\n",
    "array2 = np.array(list2)\n",
    "print(array2, array2.dtype)\n",
    "\n",
    "# automatic type casting to string(U21)"
   ]
  },
  {
   "cell_type": "code",
   "execution_count": 14,
   "id": "ba7942da",
   "metadata": {},
   "outputs": [
    {
     "name": "stdout",
     "output_type": "stream",
     "text": [
      "[1. 2. 3.] float64\n"
     ]
    }
   ],
   "source": [
    "list3 = [1,2, 3.0]\n",
    "array3 = np.array(list3)\n",
    "print(array3, array3.dtype)\n",
    "\n",
    "# Automatic type casting to float(float64)"
   ]
  },
  {
   "cell_type": "code",
   "execution_count": 17,
   "id": "0bac5de2",
   "metadata": {},
   "outputs": [
    {
     "name": "stdout",
     "output_type": "stream",
     "text": [
      "[1 2 3] float64\n"
     ]
    }
   ],
   "source": [
    "array_int = np.array([1,2,3])\n",
    "\n",
    "# array_int.astype(np.float64)\n",
    "array_float = array_int.astype('float64')\n",
    "\n",
    "print(array_int, array_float.dtype)\n"
   ]
  },
  {
   "cell_type": "code",
   "execution_count": 18,
   "id": "31e119df",
   "metadata": {},
   "outputs": [
    {
     "name": "stdout",
     "output_type": "stream",
     "text": [
      "[1 2 3] int32\n"
     ]
    }
   ],
   "source": [
    "array_int1= array_float.astype('int32')\n",
    "print(array_int1, array_int1.dtype)"
   ]
  },
  {
   "cell_type": "code",
   "execution_count": 19,
   "id": "84dad367",
   "metadata": {},
   "outputs": [
    {
     "name": "stdout",
     "output_type": "stream",
     "text": [
      "[1 2 3] int32\n"
     ]
    }
   ],
   "source": [
    "array_float1 = np.array([1.1, 2.1, 3.1])\n",
    "array_int2= array_float1.astype('int32')\n",
    "print(array_int2, array_int2.dtype)"
   ]
  }
 ],
 "metadata": {
  "kernelspec": {
   "display_name": "Python 3",
   "language": "python",
   "name": "python3"
  },
  "language_info": {
   "codemirror_mode": {
    "name": "ipython",
    "version": 3
   },
   "file_extension": ".py",
   "mimetype": "text/x-python",
   "name": "python",
   "nbconvert_exporter": "python",
   "pygments_lexer": "ipython3",
   "version": "3.8.8"
  }
 },
 "nbformat": 4,
 "nbformat_minor": 5
}
