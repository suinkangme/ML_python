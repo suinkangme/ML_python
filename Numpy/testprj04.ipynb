{
 "cells": [
  {
   "cell_type": "markdown",
   "id": "96f1c894",
   "metadata": {},
   "source": [
    "# Numpy ndarray\n",
    "\n",
    "* * *"
   ]
  },
  {
   "cell_type": "code",
   "execution_count": 2,
   "id": "db64e9a9",
   "metadata": {},
   "outputs": [],
   "source": [
    "import numpy as np"
   ]
  },
  {
   "cell_type": "markdown",
   "id": "fc49ad93",
   "metadata": {},
   "source": [
    "## ndarray - Indexing\n",
    ": Array indexing is the same as accessing an array element.\n",
    "* slicing indexing\n",
    "* fancy indexing - return the value of index\n",
    "* boolean indexing - return with filted by condition"
   ]
  },
  {
   "cell_type": "code",
   "execution_count": 3,
   "id": "daa8c4e9",
   "metadata": {},
   "outputs": [
    {
     "name": "stdout",
     "output_type": "stream",
     "text": [
      "array1: [1 2 3 4 5 6 7 8 9]\n",
      "value: 3\n",
      "<class 'numpy.int64'>\n"
     ]
    }
   ],
   "source": [
    "# 1D ndarray from 1 to 9\n",
    "array1 = np.arange(start=1, stop=10)\n",
    "print('array1:',array1)\n",
    "\n",
    "value = array1[2]\n",
    "print('value:',value)\n",
    "print(type(value))"
   ]
  },
  {
   "cell_type": "code",
   "execution_count": 4,
   "id": "bd3aebde",
   "metadata": {},
   "outputs": [
    {
     "name": "stdout",
     "output_type": "stream",
     "text": [
      "[[1 2 3]\n",
      " [4 5 6]\n",
      " [7 8 9]]\n",
      "(row=0,col=0) index value: 1\n",
      "(row=0,col=1) index value: 2\n",
      "(row=1,col=0) index value: 4\n",
      "(row=2,col=2) index value: 9\n"
     ]
    }
   ],
   "source": [
    "array1d = np.arange(start=1, stop=10)\n",
    "array2d = array1d.reshape(3,3)\n",
    "print(array2d)\n",
    "\n",
    "print('(row=0,col=0) index value:', array2d[0,0] )\n",
    "print('(row=0,col=1) index value:', array2d[0,1] )\n",
    "print('(row=1,col=0) index value:', array2d[1,0] )\n",
    "print('(row=2,col=2) index value:', array2d[2,2] )"
   ]
  },
  {
   "cell_type": "markdown",
   "id": "1640c36d",
   "metadata": {},
   "source": [
    "## ndarray - slicing\n",
    "* only consecutive index "
   ]
  },
  {
   "cell_type": "code",
   "execution_count": 5,
   "id": "a8df7183",
   "metadata": {},
   "outputs": [
    {
     "name": "stdout",
     "output_type": "stream",
     "text": [
      "[1 2 3]\n",
      "[4 5 6 7 8 9]\n",
      "[1 2 3 4 5 6 7 8 9]\n"
     ]
    }
   ],
   "source": [
    "# slicing indexing (1D)\n",
    "array1 = np.arange(start=1, stop=10)\n",
    "\n",
    "# index : 0-2\n",
    "array4 = array1[0:3]\n",
    "print(array4)\n",
    "\n",
    "# index : 3 to length-1\n",
    "array5 = array1[3:]\n",
    "print(array5)\n",
    "\n",
    "# from 0 to length-1\n",
    "array6 = array1[:]\n",
    "print(array6)"
   ]
  },
  {
   "cell_type": "code",
   "execution_count": 8,
   "id": "7609ebb2",
   "metadata": {},
   "outputs": [
    {
     "name": "stdout",
     "output_type": "stream",
     "text": [
      "array2d:\n",
      " [[1 2 3]\n",
      " [4 5 6]\n",
      " [7 8 9]]\n",
      "array2d[0:2, 0:2] \n",
      " [[1 2]\n",
      " [4 5]]\n",
      "array2d[1:3, 0:3] \n",
      " [[4 5 6]\n",
      " [7 8 9]]\n",
      "array2d[1:3, :] \n",
      " [[4 5 6]\n",
      " [7 8 9]]\n",
      "array2d[:, :] \n",
      " [[1 2 3]\n",
      " [4 5 6]\n",
      " [7 8 9]]\n",
      "array2d[:2, 1:] \n",
      " [[2 3]\n",
      " [5 6]]\n",
      "array2d[:2, 0] \n",
      " [1 4]\n",
      "[1 2 3]\n",
      "[4 5 6]\n",
      "array2d[0] shape: (3,) array2d[1] shape: (3,)\n"
     ]
    }
   ],
   "source": [
    "# slicing indexing (2D)\n",
    "array1d = np.arange(start=1, stop=10)\n",
    "array2d = array1d.reshape(3,3)\n",
    "print('array2d:\\n',array2d)\n",
    "\n",
    "print('array2d[0:2, 0:2] \\n', array2d[0:2, 0:2])\n",
    "print('array2d[1:3, 0:3] \\n', array2d[1:3, 0:3])\n",
    "print('array2d[1:3, :] \\n', array2d[1:3, :])\n",
    "print('array2d[:, :] \\n', array2d[:, :])\n",
    "print('array2d[:2, 1:] \\n', array2d[:2, 1:])\n",
    "print('array2d[:2, 0] \\n', array2d[:2, 0])\n",
    "\n",
    "print(array2d[0])\n",
    "print(array2d[1])\n",
    "print('array2d[0] shape:', array2d[0].shape, 'array2d[1] shape:', array2d[1].shape )"
   ]
  },
  {
   "cell_type": "markdown",
   "id": "15001968",
   "metadata": {},
   "source": [
    "## ndarray - fancy indexing\n"
   ]
  },
  {
   "cell_type": "code",
   "execution_count": 10,
   "id": "2f98d1d3",
   "metadata": {},
   "outputs": [
    {
     "name": "stdout",
     "output_type": "stream",
     "text": [
      "[[1 2 3]\n",
      " [4 5 6]\n",
      " [7 8 9]]\n",
      "array2d[[0,1], 2] =>  [3, 6]\n",
      "array2d[[0,1], 0:2] =>  [[1, 2], [4, 5]]\n",
      "array2d[[0,1]] =>  [[1, 2, 3], [4, 5, 6]]\n"
     ]
    }
   ],
   "source": [
    "array1d = np.arange(start=1, stop=10)\n",
    "array2d = array1d.reshape(3,3)\n",
    "print(array2d)\n",
    "\n",
    "array3 = array2d[[0,1], 2]\n",
    "print('array2d[[0,1], 2] => ',array3.tolist())\n",
    "\n",
    "array4 = array2d[[0,1], 0:2]\n",
    "print('array2d[[0,1], 0:2] => ',array4.tolist())\n",
    "\n",
    "array5 = array2d[[0,1]]\n",
    "print('array2d[[0,1]] => ',array5.tolist())"
   ]
  },
  {
   "cell_type": "markdown",
   "id": "2b87335c",
   "metadata": {},
   "source": [
    "## ndarray - boolean indexing\n"
   ]
  },
  {
   "cell_type": "code",
   "execution_count": 11,
   "id": "21871462",
   "metadata": {},
   "outputs": [
    {
     "name": "stdout",
     "output_type": "stream",
     "text": [
      "[1 2 3 4 5 6 7 8 9]\n",
      "array1d > 5 result of boolean indexing : [6 7 8 9]\n"
     ]
    }
   ],
   "source": [
    "array1d = np.arange(start=1, stop=10)\n",
    "print(array1d)\n",
    "\n",
    "# In [ ], the codition : array1d > 5 applied for Boolean indexing\n",
    "array3 = array1d[array1d > 5]\n",
    "print('array1d > 5 result of boolean indexing :', array3)"
   ]
  },
  {
   "cell_type": "code",
   "execution_count": 13,
   "id": "43785ba1",
   "metadata": {},
   "outputs": [
    {
     "name": "stdout",
     "output_type": "stream",
     "text": [
      "[False False False False False  True  True  True  True] <class 'numpy.ndarray'> (9,)\n"
     ]
    }
   ],
   "source": [
    "array1d > 5\n",
    "val = array1d > 5\n",
    "print(val, type(val), val.shape)"
   ]
  },
  {
   "cell_type": "code",
   "execution_count": 15,
   "id": "20ee0b72",
   "metadata": {},
   "outputs": [
    {
     "name": "stdout",
     "output_type": "stream",
     "text": [
      "[6 7 8 9]\n"
     ]
    }
   ],
   "source": [
    "# the case which is not using boolean indexing 1: same result, but code is long! \n",
    "\n",
    "array1d = np.arange(start=1, stop=10)\n",
    "target = []\n",
    "\n",
    "for i in range(0, 9):\n",
    "    if array1d[i] > 5:\n",
    "        target.append(array1d[i])\n",
    "\n",
    "array_selected = np.array(target)\n",
    "print(array_selected)"
   ]
  },
  {
   "cell_type": "code",
   "execution_count": 16,
   "id": "9108ed5f",
   "metadata": {},
   "outputs": [
    {
     "name": "stdout",
     "output_type": "stream",
     "text": [
      "the result : [6 7 8 9]\n"
     ]
    }
   ],
   "source": [
    "# the case which is not using boolean indexing 2 : use general indexing\n",
    "\n",
    "indexes = np.array([5,6,7,8])\n",
    "array4 = array1d[ indexes ]\n",
    "print('the result :',array4)"
   ]
  }
 ],
 "metadata": {
  "kernelspec": {
   "display_name": "Python 3",
   "language": "python",
   "name": "python3"
  },
  "language_info": {
   "codemirror_mode": {
    "name": "ipython",
    "version": 3
   },
   "file_extension": ".py",
   "mimetype": "text/x-python",
   "name": "python",
   "nbconvert_exporter": "python",
   "pygments_lexer": "ipython3",
   "version": "3.8.8"
  }
 },
 "nbformat": 4,
 "nbformat_minor": 5
}
